{
 "cells": [
  {
   "cell_type": "markdown",
   "metadata": {},
   "source": [
    "- This data set shows the top 100 US companies in 2022. The data set contains seven columns Rank, Name, Industry, Revenue, Revenue Growth, Employees and Headquarters."
   ]
  },
  {
   "cell_type": "markdown",
   "metadata": {},
   "source": [
    "- The Goal is to make Exploratory Data Analysis (EDA) to this data set and to create some visualizations. \n",
    "  This project has 3 parts:\n",
    "\n",
    " - Part 1: Imports, links, and loading\n",
    "\n",
    " - Part 2: Exploratory Data Analysis (EDA)\n",
    "\n",
    " - Part 3: Build visualizations"
   ]
  },
  {
   "cell_type": "markdown",
   "metadata": {},
   "source": [
    "# Task 1: Imports, links, and loading"
   ]
  },
  {
   "cell_type": "code",
   "execution_count": 1,
   "metadata": {},
   "outputs": [],
   "source": [
    "# import libraries\n",
    "import pandas as pd\n",
    "import numpy as np\n",
    "import matplotlib.pyplot as plt\n",
    "import seaborn as sns"
   ]
  },
  {
   "cell_type": "code",
   "execution_count": 2,
   "metadata": {},
   "outputs": [],
   "source": [
    "# load the data set into dataframe\n",
    "df = pd.read_csv('E:\\webscrape.csv')"
   ]
  },
  {
   "cell_type": "markdown",
   "metadata": {},
   "source": [
    "# Task 2: Exploratory Data Analysis (EDA)"
   ]
  },
  {
   "cell_type": "code",
   "execution_count": 3,
   "metadata": {},
   "outputs": [
    {
     "data": {
      "text/html": [
       "<div><div id=96767af5-09ad-411a-a33e-224f735d9d97 style=\"display:none; background-color:#9D6CFF; color:white; width:200px; height:30px; padding-left:5px; border-radius:4px; flex-direction:row; justify-content:space-around; align-items:center;\" onmouseover=\"this.style.backgroundColor='#BA9BF8'\" onmouseout=\"this.style.backgroundColor='#9D6CFF'\" onclick=\"window.commands?.execute('create-mitosheet-from-dataframe-output');\">See Full Dataframe in Mito</div> <script> if (window.commands?.hasCommand('create-mitosheet-from-dataframe-output')) document.getElementById('96767af5-09ad-411a-a33e-224f735d9d97').style.display = 'flex' </script> <table border=\"1\" class=\"dataframe\">\n",
       "  <thead>\n",
       "    <tr style=\"text-align: right;\">\n",
       "      <th></th>\n",
       "      <th>Rank</th>\n",
       "      <th>Name</th>\n",
       "      <th>Industry</th>\n",
       "      <th>Revenue (USD millions)</th>\n",
       "      <th>Revenue growth</th>\n",
       "      <th>Employees</th>\n",
       "      <th>Headquarters</th>\n",
       "    </tr>\n",
       "  </thead>\n",
       "  <tbody>\n",
       "    <tr>\n",
       "      <th>0</th>\n",
       "      <td>1</td>\n",
       "      <td>Walmart</td>\n",
       "      <td>Retail</td>\n",
       "      <td>611,289</td>\n",
       "      <td>6.7%</td>\n",
       "      <td>2,100,000</td>\n",
       "      <td>Bentonville, Arkansas</td>\n",
       "    </tr>\n",
       "    <tr>\n",
       "      <th>1</th>\n",
       "      <td>2</td>\n",
       "      <td>Amazon</td>\n",
       "      <td>Retail and Cloud Computing</td>\n",
       "      <td>513,983</td>\n",
       "      <td>9.4%</td>\n",
       "      <td>1,540,000</td>\n",
       "      <td>Seattle, Washington</td>\n",
       "    </tr>\n",
       "    <tr>\n",
       "      <th>2</th>\n",
       "      <td>3</td>\n",
       "      <td>Exxon Mobil</td>\n",
       "      <td>Petroleum industry</td>\n",
       "      <td>413,680</td>\n",
       "      <td>44.8%</td>\n",
       "      <td>62,000</td>\n",
       "      <td>Spring, Texas</td>\n",
       "    </tr>\n",
       "    <tr>\n",
       "      <th>3</th>\n",
       "      <td>4</td>\n",
       "      <td>Apple</td>\n",
       "      <td>Electronics industry</td>\n",
       "      <td>394,328</td>\n",
       "      <td>7.8%</td>\n",
       "      <td>164,000</td>\n",
       "      <td>Cupertino, California</td>\n",
       "    </tr>\n",
       "    <tr>\n",
       "      <th>4</th>\n",
       "      <td>5</td>\n",
       "      <td>UnitedHealth Group</td>\n",
       "      <td>Healthcare</td>\n",
       "      <td>324,162</td>\n",
       "      <td>12.7%</td>\n",
       "      <td>400,000</td>\n",
       "      <td>Minnetonka, Minnesota</td>\n",
       "    </tr>\n",
       "  </tbody>\n",
       "</table></div>"
      ],
      "text/plain": [
       "   Rank                Name                    Industry  \\\n",
       "0     1             Walmart                      Retail   \n",
       "1     2              Amazon  Retail and Cloud Computing   \n",
       "2     3         Exxon Mobil          Petroleum industry   \n",
       "3     4               Apple        Electronics industry   \n",
       "4     5  UnitedHealth Group                  Healthcare   \n",
       "\n",
       "  Revenue (USD millions) Revenue growth  Employees           Headquarters  \n",
       "0                611,289           6.7%  2,100,000  Bentonville, Arkansas  \n",
       "1                513,983           9.4%  1,540,000    Seattle, Washington  \n",
       "2                413,680          44.8%     62,000          Spring, Texas  \n",
       "3                394,328           7.8%    164,000  Cupertino, California  \n",
       "4                324,162          12.7%    400,000  Minnetonka, Minnesota  "
      ]
     },
     "execution_count": 3,
     "metadata": {},
     "output_type": "execute_result"
    }
   ],
   "source": [
    "# show the first few rows of the dataframe\n",
    "df.head()"
   ]
  },
  {
   "cell_type": "code",
   "execution_count": 4,
   "metadata": {},
   "outputs": [
    {
     "data": {
      "text/plain": [
       "700"
      ]
     },
     "execution_count": 4,
     "metadata": {},
     "output_type": "execute_result"
    }
   ],
   "source": [
    "# get the size of the dataframe\n",
    "df.size"
   ]
  },
  {
   "cell_type": "markdown",
   "metadata": {},
   "source": [
    "- The number of elements in this DataFrame is: 700"
   ]
  },
  {
   "cell_type": "code",
   "execution_count": 5,
   "metadata": {},
   "outputs": [
    {
     "data": {
      "text/plain": [
       "(100, 7)"
      ]
     },
     "execution_count": 5,
     "metadata": {},
     "output_type": "execute_result"
    }
   ],
   "source": [
    "# get the shape of the dataframe\n",
    "df.shape"
   ]
  },
  {
   "cell_type": "markdown",
   "metadata": {},
   "source": [
    "- The DataFrame consists of 7 columns and 100 rows."
   ]
  },
  {
   "cell_type": "code",
   "execution_count": 6,
   "metadata": {},
   "outputs": [
    {
     "name": "stdout",
     "output_type": "stream",
     "text": [
      "<class 'pandas.core.frame.DataFrame'>\n",
      "RangeIndex: 100 entries, 0 to 99\n",
      "Data columns (total 7 columns):\n",
      " #   Column                  Non-Null Count  Dtype \n",
      "---  ------                  --------------  ----- \n",
      " 0   Rank                    100 non-null    int64 \n",
      " 1   Name                    100 non-null    object\n",
      " 2   Industry                100 non-null    object\n",
      " 3   Revenue (USD millions)  100 non-null    object\n",
      " 4   Revenue growth          100 non-null    object\n",
      " 5   Employees               100 non-null    object\n",
      " 6   Headquarters            100 non-null    object\n",
      "dtypes: int64(1), object(6)\n",
      "memory usage: 5.6+ KB\n"
     ]
    }
   ],
   "source": [
    "# get basic information about the dataframe\n",
    "df.info()"
   ]
  },
  {
   "cell_type": "markdown",
   "metadata": {},
   "source": [
    "- Notice, that the rank's data type is int64 and all other columns' data type is object. The Revenue, Revenue Growth, and Employees data type must be intger not object, because they are numeric values."
   ]
  },
  {
   "cell_type": "code",
   "execution_count": 7,
   "metadata": {},
   "outputs": [
    {
     "data": {
      "text/html": [
       "<div><div id=fd006f8a-6337-428f-becb-5820463ed701 style=\"display:none; background-color:#9D6CFF; color:white; width:200px; height:30px; padding-left:5px; border-radius:4px; flex-direction:row; justify-content:space-around; align-items:center;\" onmouseover=\"this.style.backgroundColor='#BA9BF8'\" onmouseout=\"this.style.backgroundColor='#9D6CFF'\" onclick=\"window.commands?.execute('create-mitosheet-from-dataframe-output');\">See Full Dataframe in Mito</div> <script> if (window.commands?.hasCommand('create-mitosheet-from-dataframe-output')) document.getElementById('fd006f8a-6337-428f-becb-5820463ed701').style.display = 'flex' </script> <table border=\"1\" class=\"dataframe\">\n",
       "  <thead>\n",
       "    <tr style=\"text-align: right;\">\n",
       "      <th></th>\n",
       "      <th>Rank</th>\n",
       "      <th>Name</th>\n",
       "      <th>Industry</th>\n",
       "      <th>Revenue (USD millions)</th>\n",
       "      <th>Revenue growth</th>\n",
       "      <th>Employees</th>\n",
       "      <th>Headquarters</th>\n",
       "    </tr>\n",
       "  </thead>\n",
       "  <tbody>\n",
       "    <tr>\n",
       "      <th>0</th>\n",
       "      <td>1</td>\n",
       "      <td>Walmart</td>\n",
       "      <td>Retail</td>\n",
       "      <td>611289</td>\n",
       "      <td>6.7%</td>\n",
       "      <td>2100000</td>\n",
       "      <td>Bentonville, Arkansas</td>\n",
       "    </tr>\n",
       "    <tr>\n",
       "      <th>1</th>\n",
       "      <td>2</td>\n",
       "      <td>Amazon</td>\n",
       "      <td>Retail and Cloud Computing</td>\n",
       "      <td>513983</td>\n",
       "      <td>9.4%</td>\n",
       "      <td>1540000</td>\n",
       "      <td>Seattle, Washington</td>\n",
       "    </tr>\n",
       "    <tr>\n",
       "      <th>2</th>\n",
       "      <td>3</td>\n",
       "      <td>Exxon Mobil</td>\n",
       "      <td>Petroleum industry</td>\n",
       "      <td>413680</td>\n",
       "      <td>44.8%</td>\n",
       "      <td>62000</td>\n",
       "      <td>Spring, Texas</td>\n",
       "    </tr>\n",
       "    <tr>\n",
       "      <th>3</th>\n",
       "      <td>4</td>\n",
       "      <td>Apple</td>\n",
       "      <td>Electronics industry</td>\n",
       "      <td>394328</td>\n",
       "      <td>7.8%</td>\n",
       "      <td>164000</td>\n",
       "      <td>Cupertino, California</td>\n",
       "    </tr>\n",
       "    <tr>\n",
       "      <th>4</th>\n",
       "      <td>5</td>\n",
       "      <td>UnitedHealth Group</td>\n",
       "      <td>Healthcare</td>\n",
       "      <td>324162</td>\n",
       "      <td>12.7%</td>\n",
       "      <td>400000</td>\n",
       "      <td>Minnetonka, Minnesota</td>\n",
       "    </tr>\n",
       "  </tbody>\n",
       "</table></div>"
      ],
      "text/plain": [
       "   Rank                Name                    Industry  \\\n",
       "0     1             Walmart                      Retail   \n",
       "1     2              Amazon  Retail and Cloud Computing   \n",
       "2     3         Exxon Mobil          Petroleum industry   \n",
       "3     4               Apple        Electronics industry   \n",
       "4     5  UnitedHealth Group                  Healthcare   \n",
       "\n",
       "  Revenue (USD millions) Revenue growth Employees           Headquarters  \n",
       "0                 611289           6.7%   2100000  Bentonville, Arkansas  \n",
       "1                 513983           9.4%   1540000    Seattle, Washington  \n",
       "2                 413680          44.8%     62000          Spring, Texas  \n",
       "3                 394328           7.8%    164000  Cupertino, California  \n",
       "4                 324162          12.7%    400000  Minnetonka, Minnesota  "
      ]
     },
     "execution_count": 7,
     "metadata": {},
     "output_type": "execute_result"
    }
   ],
   "source": [
    "# remove comma from revenue and employees cols\n",
    "df[['Revenue (USD millions)', 'Employees']] = df[['Revenue (USD millions)', 'Employees']].replace({',': ''}, regex=True)\n",
    "df.head()"
   ]
  },
  {
   "cell_type": "code",
   "execution_count": 8,
   "metadata": {},
   "outputs": [
    {
     "data": {
      "text/html": [
       "<div><div id=3f5817f3-aa5f-4736-9b4a-770a936b4542 style=\"display:none; background-color:#9D6CFF; color:white; width:200px; height:30px; padding-left:5px; border-radius:4px; flex-direction:row; justify-content:space-around; align-items:center;\" onmouseover=\"this.style.backgroundColor='#BA9BF8'\" onmouseout=\"this.style.backgroundColor='#9D6CFF'\" onclick=\"window.commands?.execute('create-mitosheet-from-dataframe-output');\">See Full Dataframe in Mito</div> <script> if (window.commands?.hasCommand('create-mitosheet-from-dataframe-output')) document.getElementById('3f5817f3-aa5f-4736-9b4a-770a936b4542').style.display = 'flex' </script> <table border=\"1\" class=\"dataframe\">\n",
       "  <thead>\n",
       "    <tr style=\"text-align: right;\">\n",
       "      <th></th>\n",
       "      <th>Rank</th>\n",
       "      <th>Name</th>\n",
       "      <th>Industry</th>\n",
       "      <th>Revenue (USD millions)</th>\n",
       "      <th>Revenue growth</th>\n",
       "      <th>Employees</th>\n",
       "      <th>Headquarters</th>\n",
       "    </tr>\n",
       "  </thead>\n",
       "  <tbody>\n",
       "    <tr>\n",
       "      <th>0</th>\n",
       "      <td>1</td>\n",
       "      <td>Walmart</td>\n",
       "      <td>Retail</td>\n",
       "      <td>611289</td>\n",
       "      <td>6.7%</td>\n",
       "      <td>2100000</td>\n",
       "      <td>Bentonville, Arkansas</td>\n",
       "    </tr>\n",
       "    <tr>\n",
       "      <th>1</th>\n",
       "      <td>2</td>\n",
       "      <td>Amazon</td>\n",
       "      <td>Retail and Cloud Computing</td>\n",
       "      <td>513983</td>\n",
       "      <td>9.4%</td>\n",
       "      <td>1540000</td>\n",
       "      <td>Seattle, Washington</td>\n",
       "    </tr>\n",
       "    <tr>\n",
       "      <th>2</th>\n",
       "      <td>3</td>\n",
       "      <td>Exxon Mobil</td>\n",
       "      <td>Petroleum industry</td>\n",
       "      <td>413680</td>\n",
       "      <td>44.8%</td>\n",
       "      <td>62000</td>\n",
       "      <td>Spring, Texas</td>\n",
       "    </tr>\n",
       "    <tr>\n",
       "      <th>3</th>\n",
       "      <td>4</td>\n",
       "      <td>Apple</td>\n",
       "      <td>Electronics industry</td>\n",
       "      <td>394328</td>\n",
       "      <td>7.8%</td>\n",
       "      <td>164000</td>\n",
       "      <td>Cupertino, California</td>\n",
       "    </tr>\n",
       "    <tr>\n",
       "      <th>4</th>\n",
       "      <td>5</td>\n",
       "      <td>UnitedHealth Group</td>\n",
       "      <td>Healthcare</td>\n",
       "      <td>324162</td>\n",
       "      <td>12.7%</td>\n",
       "      <td>400000</td>\n",
       "      <td>Minnetonka, Minnesota</td>\n",
       "    </tr>\n",
       "  </tbody>\n",
       "</table></div>"
      ],
      "text/plain": [
       "   Rank                Name                    Industry  \\\n",
       "0     1             Walmart                      Retail   \n",
       "1     2              Amazon  Retail and Cloud Computing   \n",
       "2     3         Exxon Mobil          Petroleum industry   \n",
       "3     4               Apple        Electronics industry   \n",
       "4     5  UnitedHealth Group                  Healthcare   \n",
       "\n",
       "   Revenue (USD millions) Revenue growth  Employees           Headquarters  \n",
       "0                  611289           6.7%    2100000  Bentonville, Arkansas  \n",
       "1                  513983           9.4%    1540000    Seattle, Washington  \n",
       "2                  413680          44.8%      62000          Spring, Texas  \n",
       "3                  394328           7.8%     164000  Cupertino, California  \n",
       "4                  324162          12.7%     400000  Minnetonka, Minnesota  "
      ]
     },
     "execution_count": 8,
     "metadata": {},
     "output_type": "execute_result"
    }
   ],
   "source": [
    "df[['Revenue (USD millions)','Employees']] = df[['Revenue (USD millions)','Employees']].astype('int')\n",
    "df.head()"
   ]
  },
  {
   "cell_type": "code",
   "execution_count": 9,
   "metadata": {},
   "outputs": [
    {
     "data": {
      "text/html": [
       "<div><div id=83e04ffd-689c-4b22-b0b1-862dc91bf7a9 style=\"display:none; background-color:#9D6CFF; color:white; width:200px; height:30px; padding-left:5px; border-radius:4px; flex-direction:row; justify-content:space-around; align-items:center;\" onmouseover=\"this.style.backgroundColor='#BA9BF8'\" onmouseout=\"this.style.backgroundColor='#9D6CFF'\" onclick=\"window.commands?.execute('create-mitosheet-from-dataframe-output');\">See Full Dataframe in Mito</div> <script> if (window.commands?.hasCommand('create-mitosheet-from-dataframe-output')) document.getElementById('83e04ffd-689c-4b22-b0b1-862dc91bf7a9').style.display = 'flex' </script> <table border=\"1\" class=\"dataframe\">\n",
       "  <thead>\n",
       "    <tr style=\"text-align: right;\">\n",
       "      <th></th>\n",
       "      <th>Rank</th>\n",
       "      <th>Name</th>\n",
       "      <th>Industry</th>\n",
       "      <th>Revenue (USD millions)</th>\n",
       "      <th>Revenue growth</th>\n",
       "      <th>Employees</th>\n",
       "      <th>Headquarters</th>\n",
       "    </tr>\n",
       "  </thead>\n",
       "  <tbody>\n",
       "    <tr>\n",
       "      <th>0</th>\n",
       "      <td>1</td>\n",
       "      <td>Walmart</td>\n",
       "      <td>Retail</td>\n",
       "      <td>611289</td>\n",
       "      <td>6.7</td>\n",
       "      <td>2100000</td>\n",
       "      <td>Bentonville, Arkansas</td>\n",
       "    </tr>\n",
       "    <tr>\n",
       "      <th>1</th>\n",
       "      <td>2</td>\n",
       "      <td>Amazon</td>\n",
       "      <td>Retail and Cloud Computing</td>\n",
       "      <td>513983</td>\n",
       "      <td>9.4</td>\n",
       "      <td>1540000</td>\n",
       "      <td>Seattle, Washington</td>\n",
       "    </tr>\n",
       "    <tr>\n",
       "      <th>2</th>\n",
       "      <td>3</td>\n",
       "      <td>Exxon Mobil</td>\n",
       "      <td>Petroleum industry</td>\n",
       "      <td>413680</td>\n",
       "      <td>44.8</td>\n",
       "      <td>62000</td>\n",
       "      <td>Spring, Texas</td>\n",
       "    </tr>\n",
       "    <tr>\n",
       "      <th>3</th>\n",
       "      <td>4</td>\n",
       "      <td>Apple</td>\n",
       "      <td>Electronics industry</td>\n",
       "      <td>394328</td>\n",
       "      <td>7.8</td>\n",
       "      <td>164000</td>\n",
       "      <td>Cupertino, California</td>\n",
       "    </tr>\n",
       "    <tr>\n",
       "      <th>4</th>\n",
       "      <td>5</td>\n",
       "      <td>UnitedHealth Group</td>\n",
       "      <td>Healthcare</td>\n",
       "      <td>324162</td>\n",
       "      <td>12.7</td>\n",
       "      <td>400000</td>\n",
       "      <td>Minnetonka, Minnesota</td>\n",
       "    </tr>\n",
       "  </tbody>\n",
       "</table></div>"
      ],
      "text/plain": [
       "   Rank                Name                    Industry  \\\n",
       "0     1             Walmart                      Retail   \n",
       "1     2              Amazon  Retail and Cloud Computing   \n",
       "2     3         Exxon Mobil          Petroleum industry   \n",
       "3     4               Apple        Electronics industry   \n",
       "4     5  UnitedHealth Group                  Healthcare   \n",
       "\n",
       "   Revenue (USD millions) Revenue growth  Employees           Headquarters  \n",
       "0                  611289            6.7    2100000  Bentonville, Arkansas  \n",
       "1                  513983            9.4    1540000    Seattle, Washington  \n",
       "2                  413680           44.8      62000          Spring, Texas  \n",
       "3                  394328            7.8     164000  Cupertino, California  \n",
       "4                  324162           12.7     400000  Minnetonka, Minnesota  "
      ]
     },
     "execution_count": 9,
     "metadata": {},
     "output_type": "execute_result"
    }
   ],
   "source": [
    "# remove % sign from the revenue growth col\n",
    "df['Revenue growth'] = df['Revenue growth'].replace({'%': ''}, regex=True)\n",
    "df.head()"
   ]
  },
  {
   "cell_type": "code",
   "execution_count": 10,
   "metadata": {},
   "outputs": [
    {
     "name": "stdout",
     "output_type": "stream",
     "text": [
      "<class 'pandas.core.frame.DataFrame'>\n",
      "RangeIndex: 100 entries, 0 to 99\n",
      "Data columns (total 7 columns):\n",
      " #   Column                  Non-Null Count  Dtype  \n",
      "---  ------                  --------------  -----  \n",
      " 0   Rank                    100 non-null    int64  \n",
      " 1   Name                    100 non-null    object \n",
      " 2   Industry                100 non-null    object \n",
      " 3   Revenue (USD millions)  100 non-null    int32  \n",
      " 4   Revenue growth          100 non-null    float64\n",
      " 5   Employees               100 non-null    int32  \n",
      " 6   Headquarters            100 non-null    object \n",
      "dtypes: float64(1), int32(2), int64(1), object(3)\n",
      "memory usage: 4.8+ KB\n"
     ]
    }
   ],
   "source": [
    "# change the data type of revenue growth col from object to float\n",
    "df['Revenue growth'] = df['Revenue growth'].astype('float')\n",
    "df.info()"
   ]
  },
  {
   "cell_type": "code",
   "execution_count": 11,
   "metadata": {},
   "outputs": [
    {
     "name": "stdout",
     "output_type": "stream",
     "text": [
      "<class 'pandas.core.frame.DataFrame'>\n",
      "RangeIndex: 100 entries, 0 to 99\n",
      "Data columns (total 7 columns):\n",
      " #   Column                     Non-Null Count  Dtype  \n",
      "---  ------                     --------------  -----  \n",
      " 0   Rank                       100 non-null    int64  \n",
      " 1   Name                       100 non-null    object \n",
      " 2   Industry                   100 non-null    object \n",
      " 3   Revenue (USD millions)     100 non-null    int32  \n",
      " 4   Revenue growth percentage  100 non-null    float64\n",
      " 5   Employees                  100 non-null    int32  \n",
      " 6   Headquarters               100 non-null    object \n",
      "dtypes: float64(1), int32(2), int64(1), object(3)\n",
      "memory usage: 4.8+ KB\n"
     ]
    }
   ],
   "source": [
    "# rename the revenue growth col\n",
    "df = df.rename(columns={'Revenue growth': 'Revenue growth percentage'})\n",
    "df.info()"
   ]
  },
  {
   "cell_type": "code",
   "execution_count": 12,
   "metadata": {},
   "outputs": [
    {
     "name": "stdout",
     "output_type": "stream",
     "text": [
      "<class 'pandas.core.frame.DataFrame'>\n",
      "RangeIndex: 100 entries, 0 to 99\n",
      "Data columns (total 7 columns):\n",
      " #   Column                     Non-Null Count  Dtype  \n",
      "---  ------                     --------------  -----  \n",
      " 0   Rank                       100 non-null    int64  \n",
      " 1   Company                    100 non-null    object \n",
      " 2   Industry                   100 non-null    object \n",
      " 3   Revenue (USD millions)     100 non-null    int32  \n",
      " 4   Revenue growth percentage  100 non-null    float64\n",
      " 5   Employees                  100 non-null    int32  \n",
      " 6   Headquarters               100 non-null    object \n",
      "dtypes: float64(1), int32(2), int64(1), object(3)\n",
      "memory usage: 4.8+ KB\n"
     ]
    }
   ],
   "source": [
    "# rename the Name column\n",
    "df = df.rename(columns={'Name': 'Company'})\n",
    "df.info()"
   ]
  },
  {
   "cell_type": "code",
   "execution_count": 13,
   "metadata": {},
   "outputs": [
    {
     "data": {
      "text/plain": [
       "array(['Retail', 'Retail and Cloud Computing', 'Petroleum industry',\n",
       "       'Electronics industry', 'Healthcare', 'Conglomerate', 'Technology',\n",
       "       'Health', 'Pharmaceutical industry', 'Health Insurance',\n",
       "       'Automotive industry', 'Automotive', 'Financial services',\n",
       "       'Telecommunications', 'Financials', 'Food industry',\n",
       "       'Transportation', 'Beverage', 'Media', 'Automotive and Energy',\n",
       "       'Consumer products Manufacturing', 'Logistics', 'Food Service',\n",
       "       'Aerospace and defense', 'Aerospace and Defense', 'Infotech',\n",
       "       'Machinery', 'Petroleum industry and Logistics', 'Insurance',\n",
       "       'Chemical industry', 'Financial', 'Food Processing',\n",
       "       'Agriculture manufacturing', 'Telecom Hardware Manufacturing',\n",
       "       'Airline', 'Agriculture cooperative', 'Apparel',\n",
       "       'Laboratory instruments'], dtype=object)"
      ]
     },
     "execution_count": 13,
     "metadata": {},
     "output_type": "execute_result"
    }
   ],
   "source": [
    "# get industry's col unique values\n",
    "df['Industry'].unique()"
   ]
  },
  {
   "cell_type": "code",
   "execution_count": 14,
   "metadata": {},
   "outputs": [
    {
     "data": {
      "text/html": [
       "<div><div id=4dd45586-b419-43c8-b1e6-044cb9f9cf68 style=\"display:none; background-color:#9D6CFF; color:white; width:200px; height:30px; padding-left:5px; border-radius:4px; flex-direction:row; justify-content:space-around; align-items:center;\" onmouseover=\"this.style.backgroundColor='#BA9BF8'\" onmouseout=\"this.style.backgroundColor='#9D6CFF'\" onclick=\"window.commands?.execute('create-mitosheet-from-dataframe-output');\">See Full Dataframe in Mito</div> <script> if (window.commands?.hasCommand('create-mitosheet-from-dataframe-output')) document.getElementById('4dd45586-b419-43c8-b1e6-044cb9f9cf68').style.display = 'flex' </script> <table border=\"1\" class=\"dataframe\">\n",
       "  <thead>\n",
       "    <tr style=\"text-align: right;\">\n",
       "      <th></th>\n",
       "      <th>Rank</th>\n",
       "      <th>Revenue (USD millions)</th>\n",
       "      <th>Revenue growth percentage</th>\n",
       "      <th>Employees</th>\n",
       "    </tr>\n",
       "  </thead>\n",
       "  <tbody>\n",
       "    <tr>\n",
       "      <th>count</th>\n",
       "      <td>100.000000</td>\n",
       "      <td>100.000000</td>\n",
       "      <td>100.000000</td>\n",
       "      <td>1.000000e+02</td>\n",
       "    </tr>\n",
       "    <tr>\n",
       "      <th>mean</th>\n",
       "      <td>50.500000</td>\n",
       "      <td>117566.460000</td>\n",
       "      <td>19.576000</td>\n",
       "      <td>1.680631e+05</td>\n",
       "    </tr>\n",
       "    <tr>\n",
       "      <th>std</th>\n",
       "      <td>29.011492</td>\n",
       "      <td>100915.112163</td>\n",
       "      <td>21.463397</td>\n",
       "      <td>2.717289e+05</td>\n",
       "    </tr>\n",
       "    <tr>\n",
       "      <th>min</th>\n",
       "      <td>1.000000</td>\n",
       "      <td>44200.000000</td>\n",
       "      <td>0.500000</td>\n",
       "      <td>3.605000e+03</td>\n",
       "    </tr>\n",
       "    <tr>\n",
       "      <th>25%</th>\n",
       "      <td>25.750000</td>\n",
       "      <td>57876.000000</td>\n",
       "      <td>4.375000</td>\n",
       "      <td>4.471150e+04</td>\n",
       "    </tr>\n",
       "    <tr>\n",
       "      <th>50%</th>\n",
       "      <td>50.500000</td>\n",
       "      <td>80824.500000</td>\n",
       "      <td>11.700000</td>\n",
       "      <td>8.963850e+04</td>\n",
       "    </tr>\n",
       "    <tr>\n",
       "      <th>75%</th>\n",
       "      <td>75.250000</td>\n",
       "      <td>138763.000000</td>\n",
       "      <td>23.625000</td>\n",
       "      <td>1.965125e+05</td>\n",
       "    </tr>\n",
       "    <tr>\n",
       "      <th>max</th>\n",
       "      <td>100.000000</td>\n",
       "      <td>611289.000000</td>\n",
       "      <td>97.200000</td>\n",
       "      <td>2.100000e+06</td>\n",
       "    </tr>\n",
       "  </tbody>\n",
       "</table></div>"
      ],
      "text/plain": [
       "             Rank  Revenue (USD millions)  Revenue growth percentage  \\\n",
       "count  100.000000              100.000000                 100.000000   \n",
       "mean    50.500000           117566.460000                  19.576000   \n",
       "std     29.011492           100915.112163                  21.463397   \n",
       "min      1.000000            44200.000000                   0.500000   \n",
       "25%     25.750000            57876.000000                   4.375000   \n",
       "50%     50.500000            80824.500000                  11.700000   \n",
       "75%     75.250000           138763.000000                  23.625000   \n",
       "max    100.000000           611289.000000                  97.200000   \n",
       "\n",
       "          Employees  \n",
       "count  1.000000e+02  \n",
       "mean   1.680631e+05  \n",
       "std    2.717289e+05  \n",
       "min    3.605000e+03  \n",
       "25%    4.471150e+04  \n",
       "50%    8.963850e+04  \n",
       "75%    1.965125e+05  \n",
       "max    2.100000e+06  "
      ]
     },
     "execution_count": 14,
     "metadata": {},
     "output_type": "execute_result"
    }
   ],
   "source": [
    "# Generate a table of describtive statistics\n",
    "df.describe()"
   ]
  },
  {
   "cell_type": "code",
   "execution_count": 15,
   "metadata": {},
   "outputs": [
    {
     "data": {
      "text/plain": [
       "0"
      ]
     },
     "execution_count": 15,
     "metadata": {},
     "output_type": "execute_result"
    }
   ],
   "source": [
    "# check for duplicates\n",
    "df.duplicated().sum()"
   ]
  },
  {
   "cell_type": "markdown",
   "metadata": {},
   "source": [
    "- No Duplicates founded."
   ]
  },
  {
   "cell_type": "code",
   "execution_count": 16,
   "metadata": {},
   "outputs": [
    {
     "data": {
      "text/plain": [
       "Rank                         0\n",
       "Company                      0\n",
       "Industry                     0\n",
       "Revenue (USD millions)       0\n",
       "Revenue growth percentage    0\n",
       "Employees                    0\n",
       "Headquarters                 0\n",
       "dtype: int64"
      ]
     },
     "execution_count": 16,
     "metadata": {},
     "output_type": "execute_result"
    }
   ],
   "source": [
    "# check for missing values\n",
    "df.isnull().sum()"
   ]
  },
  {
   "cell_type": "markdown",
   "metadata": {},
   "source": [
    "- No missing values founded."
   ]
  },
  {
   "cell_type": "code",
   "execution_count": 17,
   "metadata": {},
   "outputs": [
    {
     "data": {
      "text/html": [
       "<div><div id=de121e91-4709-420a-a514-be3950c855bf style=\"display:none; background-color:#9D6CFF; color:white; width:200px; height:30px; padding-left:5px; border-radius:4px; flex-direction:row; justify-content:space-around; align-items:center;\" onmouseover=\"this.style.backgroundColor='#BA9BF8'\" onmouseout=\"this.style.backgroundColor='#9D6CFF'\" onclick=\"window.commands?.execute('create-mitosheet-from-dataframe-output');\">See Full Dataframe in Mito</div> <script> if (window.commands?.hasCommand('create-mitosheet-from-dataframe-output')) document.getElementById('de121e91-4709-420a-a514-be3950c855bf').style.display = 'flex' </script> <table border=\"1\" class=\"dataframe\">\n",
       "  <thead>\n",
       "    <tr style=\"text-align: right;\">\n",
       "      <th></th>\n",
       "      <th>Rank</th>\n",
       "      <th>Company</th>\n",
       "      <th>Industry</th>\n",
       "      <th>Revenue (USD millions)</th>\n",
       "      <th>Revenue growth percentage</th>\n",
       "      <th>Employees</th>\n",
       "      <th>Headquarters</th>\n",
       "      <th>Headquarter</th>\n",
       "      <th>State</th>\n",
       "    </tr>\n",
       "  </thead>\n",
       "  <tbody>\n",
       "    <tr>\n",
       "      <th>0</th>\n",
       "      <td>1</td>\n",
       "      <td>Walmart</td>\n",
       "      <td>Retail</td>\n",
       "      <td>611289</td>\n",
       "      <td>6.7</td>\n",
       "      <td>2100000</td>\n",
       "      <td>Bentonville, Arkansas</td>\n",
       "      <td>Bentonville</td>\n",
       "      <td>Arkansas</td>\n",
       "    </tr>\n",
       "    <tr>\n",
       "      <th>1</th>\n",
       "      <td>2</td>\n",
       "      <td>Amazon</td>\n",
       "      <td>Retail and Cloud Computing</td>\n",
       "      <td>513983</td>\n",
       "      <td>9.4</td>\n",
       "      <td>1540000</td>\n",
       "      <td>Seattle, Washington</td>\n",
       "      <td>Seattle</td>\n",
       "      <td>Washington</td>\n",
       "    </tr>\n",
       "    <tr>\n",
       "      <th>2</th>\n",
       "      <td>3</td>\n",
       "      <td>Exxon Mobil</td>\n",
       "      <td>Petroleum industry</td>\n",
       "      <td>413680</td>\n",
       "      <td>44.8</td>\n",
       "      <td>62000</td>\n",
       "      <td>Spring, Texas</td>\n",
       "      <td>Spring</td>\n",
       "      <td>Texas</td>\n",
       "    </tr>\n",
       "    <tr>\n",
       "      <th>3</th>\n",
       "      <td>4</td>\n",
       "      <td>Apple</td>\n",
       "      <td>Electronics industry</td>\n",
       "      <td>394328</td>\n",
       "      <td>7.8</td>\n",
       "      <td>164000</td>\n",
       "      <td>Cupertino, California</td>\n",
       "      <td>Cupertino</td>\n",
       "      <td>California</td>\n",
       "    </tr>\n",
       "    <tr>\n",
       "      <th>4</th>\n",
       "      <td>5</td>\n",
       "      <td>UnitedHealth Group</td>\n",
       "      <td>Healthcare</td>\n",
       "      <td>324162</td>\n",
       "      <td>12.7</td>\n",
       "      <td>400000</td>\n",
       "      <td>Minnetonka, Minnesota</td>\n",
       "      <td>Minnetonka</td>\n",
       "      <td>Minnesota</td>\n",
       "    </tr>\n",
       "    <tr>\n",
       "      <th>...</th>\n",
       "      <td>...</td>\n",
       "      <td>...</td>\n",
       "      <td>...</td>\n",
       "      <td>...</td>\n",
       "      <td>...</td>\n",
       "      <td>...</td>\n",
       "      <td>...</td>\n",
       "      <td>...</td>\n",
       "      <td>...</td>\n",
       "    </tr>\n",
       "    <tr>\n",
       "      <th>95</th>\n",
       "      <td>96</td>\n",
       "      <td>Best Buy</td>\n",
       "      <td>Retail</td>\n",
       "      <td>46298</td>\n",
       "      <td>10.6</td>\n",
       "      <td>71100</td>\n",
       "      <td>Richfield, Minnesota</td>\n",
       "      <td>Richfield</td>\n",
       "      <td>Minnesota</td>\n",
       "    </tr>\n",
       "    <tr>\n",
       "      <th>96</th>\n",
       "      <td>97</td>\n",
       "      <td>Bristol-Myers Squibb</td>\n",
       "      <td>Pharmaceutical industry</td>\n",
       "      <td>46159</td>\n",
       "      <td>0.5</td>\n",
       "      <td>34300</td>\n",
       "      <td>New York City, New York</td>\n",
       "      <td>New York City</td>\n",
       "      <td>New York</td>\n",
       "    </tr>\n",
       "    <tr>\n",
       "      <th>97</th>\n",
       "      <td>98</td>\n",
       "      <td>United Airlines</td>\n",
       "      <td>Airline</td>\n",
       "      <td>44955</td>\n",
       "      <td>82.5</td>\n",
       "      <td>92795</td>\n",
       "      <td>Chicago, Illinois</td>\n",
       "      <td>Chicago</td>\n",
       "      <td>Illinois</td>\n",
       "    </tr>\n",
       "    <tr>\n",
       "      <th>98</th>\n",
       "      <td>99</td>\n",
       "      <td>Thermo Fisher Scientific</td>\n",
       "      <td>Laboratory instruments</td>\n",
       "      <td>44915</td>\n",
       "      <td>14.5</td>\n",
       "      <td>130000</td>\n",
       "      <td>Waltham, Massachusetts</td>\n",
       "      <td>Waltham</td>\n",
       "      <td>Massachusetts</td>\n",
       "    </tr>\n",
       "    <tr>\n",
       "      <th>99</th>\n",
       "      <td>100</td>\n",
       "      <td>Qualcomm</td>\n",
       "      <td>Technology</td>\n",
       "      <td>44200</td>\n",
       "      <td>31.7</td>\n",
       "      <td>51000</td>\n",
       "      <td>San Diego, California</td>\n",
       "      <td>San Diego</td>\n",
       "      <td>California</td>\n",
       "    </tr>\n",
       "  </tbody>\n",
       "</table></div>"
      ],
      "text/plain": [
       "    Rank                   Company                    Industry  \\\n",
       "0      1                   Walmart                      Retail   \n",
       "1      2                    Amazon  Retail and Cloud Computing   \n",
       "2      3               Exxon Mobil          Petroleum industry   \n",
       "3      4                     Apple        Electronics industry   \n",
       "4      5        UnitedHealth Group                  Healthcare   \n",
       "..   ...                       ...                         ...   \n",
       "95    96                  Best Buy                      Retail   \n",
       "96    97      Bristol-Myers Squibb     Pharmaceutical industry   \n",
       "97    98           United Airlines                     Airline   \n",
       "98    99  Thermo Fisher Scientific      Laboratory instruments   \n",
       "99   100                  Qualcomm                  Technology   \n",
       "\n",
       "    Revenue (USD millions)  Revenue growth percentage  Employees  \\\n",
       "0                   611289                        6.7    2100000   \n",
       "1                   513983                        9.4    1540000   \n",
       "2                   413680                       44.8      62000   \n",
       "3                   394328                        7.8     164000   \n",
       "4                   324162                       12.7     400000   \n",
       "..                     ...                        ...        ...   \n",
       "95                   46298                       10.6      71100   \n",
       "96                   46159                        0.5      34300   \n",
       "97                   44955                       82.5      92795   \n",
       "98                   44915                       14.5     130000   \n",
       "99                   44200                       31.7      51000   \n",
       "\n",
       "               Headquarters    Headquarter           State  \n",
       "0     Bentonville, Arkansas    Bentonville        Arkansas  \n",
       "1       Seattle, Washington        Seattle      Washington  \n",
       "2             Spring, Texas         Spring           Texas  \n",
       "3     Cupertino, California      Cupertino      California  \n",
       "4     Minnetonka, Minnesota     Minnetonka       Minnesota  \n",
       "..                      ...            ...             ...  \n",
       "95     Richfield, Minnesota      Richfield       Minnesota  \n",
       "96  New York City, New York  New York City        New York  \n",
       "97        Chicago, Illinois        Chicago        Illinois  \n",
       "98   Waltham, Massachusetts        Waltham   Massachusetts  \n",
       "99    San Diego, California      San Diego      California  \n",
       "\n",
       "[100 rows x 9 columns]"
      ]
     },
     "execution_count": 17,
     "metadata": {},
     "output_type": "execute_result"
    }
   ],
   "source": [
    "# split the headquarters column into two columns\n",
    "df[['Headquarter', 'State']] = df['Headquarters'].str.split(',', n=1, expand=True)\n",
    "df"
   ]
  },
  {
   "cell_type": "markdown",
   "metadata": {},
   "source": [
    "# Task 3: Build visualizations"
   ]
  },
  {
   "cell_type": "code",
   "execution_count": 18,
   "metadata": {},
   "outputs": [
    {
     "data": {
      "text/html": [
       "<div><div id=94bd60e7-c703-4c19-99f0-c4a02a13c6d7 style=\"display:none; background-color:#9D6CFF; color:white; width:200px; height:30px; padding-left:5px; border-radius:4px; flex-direction:row; justify-content:space-around; align-items:center;\" onmouseover=\"this.style.backgroundColor='#BA9BF8'\" onmouseout=\"this.style.backgroundColor='#9D6CFF'\" onclick=\"window.commands?.execute('create-mitosheet-from-dataframe-output');\">See Full Dataframe in Mito</div> <script> if (window.commands?.hasCommand('create-mitosheet-from-dataframe-output')) document.getElementById('94bd60e7-c703-4c19-99f0-c4a02a13c6d7').style.display = 'flex' </script> <table border=\"1\" class=\"dataframe\">\n",
       "  <thead>\n",
       "    <tr style=\"text-align: right;\">\n",
       "      <th></th>\n",
       "      <th>Company</th>\n",
       "      <th>Revenue (USD millions)</th>\n",
       "    </tr>\n",
       "  </thead>\n",
       "  <tbody>\n",
       "    <tr>\n",
       "      <th>0</th>\n",
       "      <td>Walmart</td>\n",
       "      <td>611289</td>\n",
       "    </tr>\n",
       "    <tr>\n",
       "      <th>1</th>\n",
       "      <td>Amazon</td>\n",
       "      <td>513983</td>\n",
       "    </tr>\n",
       "    <tr>\n",
       "      <th>2</th>\n",
       "      <td>Exxon Mobil</td>\n",
       "      <td>413680</td>\n",
       "    </tr>\n",
       "    <tr>\n",
       "      <th>3</th>\n",
       "      <td>Apple</td>\n",
       "      <td>394328</td>\n",
       "    </tr>\n",
       "    <tr>\n",
       "      <th>4</th>\n",
       "      <td>UnitedHealth Group</td>\n",
       "      <td>324162</td>\n",
       "    </tr>\n",
       "    <tr>\n",
       "      <th>5</th>\n",
       "      <td>CVS Health</td>\n",
       "      <td>322467</td>\n",
       "    </tr>\n",
       "    <tr>\n",
       "      <th>6</th>\n",
       "      <td>Berkshire Hathaway</td>\n",
       "      <td>302089</td>\n",
       "    </tr>\n",
       "    <tr>\n",
       "      <th>7</th>\n",
       "      <td>Alphabet</td>\n",
       "      <td>282836</td>\n",
       "    </tr>\n",
       "    <tr>\n",
       "      <th>8</th>\n",
       "      <td>McKesson Corporation</td>\n",
       "      <td>276711</td>\n",
       "    </tr>\n",
       "    <tr>\n",
       "      <th>9</th>\n",
       "      <td>Chevron Corporation</td>\n",
       "      <td>246252</td>\n",
       "    </tr>\n",
       "  </tbody>\n",
       "</table></div>"
      ],
      "text/plain": [
       "                Company  Revenue (USD millions)\n",
       "0               Walmart                  611289\n",
       "1                Amazon                  513983\n",
       "2           Exxon Mobil                  413680\n",
       "3                 Apple                  394328\n",
       "4    UnitedHealth Group                  324162\n",
       "5            CVS Health                  322467\n",
       "6    Berkshire Hathaway                  302089\n",
       "7              Alphabet                  282836\n",
       "8  McKesson Corporation                  276711\n",
       "9   Chevron Corporation                  246252"
      ]
     },
     "execution_count": 18,
     "metadata": {},
     "output_type": "execute_result"
    }
   ],
   "source": [
    "top_10_companies = df[['Company', 'Revenue (USD millions)']].sort_values(by='Revenue (USD millions)', ascending=False)\n",
    "top_10_companies.head(10)"
   ]
  },
  {
   "cell_type": "code",
   "execution_count": 19,
   "metadata": {},
   "outputs": [
    {
     "data": {
      "image/png": "[encoded data removed]",
      "text/plain": [
       "<Figure size 1080x432 with 1 Axes>"
      ]
     },
     "metadata": {
      "needs_background": "light"
     },
     "output_type": "display_data"
    }
   ],
   "source": [
    "# creat a bar chart company vs revenue\n",
    "plt.figure(figsize=(15,6))\n",
    "plt.bar(top_10_companies['Company'].head(10), top_10_companies['Revenue (USD millions)'].head(10))\n",
    "plt.xlabel('Company')\n",
    "plt.ylabel('Revenue (USD millions)')\n",
    "plt.xticks(rotation=45)\n",
    "plt.title('Top 10 companies by Revenue in 2022');"
   ]
  },
  {
   "cell_type": "markdown",
   "metadata": {},
   "source": [
    "- Walmart achieved the highest number of revenues 611.289 billion dollars, then comes Amazon with 513.983 billion dolars."
   ]
  },
  {
   "cell_type": "code",
   "execution_count": 20,
   "metadata": {},
   "outputs": [
    {
     "data": {
      "text/html": [
       "<div><div id=59654e07-c313-444e-b8b7-61b845ec2b40 style=\"display:none; background-color:#9D6CFF; color:white; width:200px; height:30px; padding-left:5px; border-radius:4px; flex-direction:row; justify-content:space-around; align-items:center;\" onmouseover=\"this.style.backgroundColor='#BA9BF8'\" onmouseout=\"this.style.backgroundColor='#9D6CFF'\" onclick=\"window.commands?.execute('create-mitosheet-from-dataframe-output');\">See Full Dataframe in Mito</div> <script> if (window.commands?.hasCommand('create-mitosheet-from-dataframe-output')) document.getElementById('59654e07-c313-444e-b8b7-61b845ec2b40').style.display = 'flex' </script> <table border=\"1\" class=\"dataframe\">\n",
       "  <thead>\n",
       "    <tr style=\"text-align: right;\">\n",
       "      <th></th>\n",
       "      <th>Company</th>\n",
       "      <th>Industry</th>\n",
       "      <th>Employees</th>\n",
       "    </tr>\n",
       "  </thead>\n",
       "  <tbody>\n",
       "    <tr>\n",
       "      <th>0</th>\n",
       "      <td>Walmart</td>\n",
       "      <td>Retail</td>\n",
       "      <td>2100000</td>\n",
       "    </tr>\n",
       "  </tbody>\n",
       "</table></div>"
      ],
      "text/plain": [
       "   Company Industry  Employees\n",
       "0  Walmart   Retail    2100000"
      ]
     },
     "execution_count": 20,
     "metadata": {},
     "output_type": "execute_result"
    }
   ],
   "source": [
    "# which company have the largest number of employees?\n",
    "emp = df[['Company', 'Industry', 'Employees']].sort_values(by='Employees', ascending=False)\n",
    "emp.head(1)"
   ]
  },
  {
   "cell_type": "code",
   "execution_count": 21,
   "metadata": {},
   "outputs": [
    {
     "data": {
      "text/plain": [
       " New York         15\n",
       " Texas            13\n",
       " California       10\n",
       " Illinois          8\n",
       " Ohio              6\n",
       " New Jersey        4\n",
       " Massachusetts     4\n",
       " Minnesota         4\n",
       " Michigan          3\n",
       " Florida           3\n",
       "Name: State, dtype: int64"
      ]
     },
     "execution_count": 21,
     "metadata": {},
     "output_type": "execute_result"
    }
   ],
   "source": [
    "# which states with the largest number of companies' headquarters located in?\n",
    "state = df['State'].value_counts().head(10)\n",
    "state"
   ]
  },
  {
   "cell_type": "code",
   "execution_count": 22,
   "metadata": {},
   "outputs": [
    {
     "data": {
      "image/png": "[encoded data removed]",
      "text/plain": [
       "<Figure size 432x288 with 1 Axes>"
      ]
     },
     "metadata": {
      "needs_background": "light"
     },
     "output_type": "display_data"
    }
   ],
   "source": [
    "# state vs number of headquarters\n",
    "state.plot(kind='bar');"
   ]
  },
  {
   "cell_type": "code",
   "execution_count": 23,
   "metadata": {},
   "outputs": [
    {
     "data": {
      "text/html": [
       "<div><div id=287b1c40-34fd-46cd-8884-ad8d62203989 style=\"display:none; background-color:#9D6CFF; color:white; width:200px; height:30px; padding-left:5px; border-radius:4px; flex-direction:row; justify-content:space-around; align-items:center;\" onmouseover=\"this.style.backgroundColor='#BA9BF8'\" onmouseout=\"this.style.backgroundColor='#9D6CFF'\" onclick=\"window.commands?.execute('create-mitosheet-from-dataframe-output');\">See Full Dataframe in Mito</div> <script> if (window.commands?.hasCommand('create-mitosheet-from-dataframe-output')) document.getElementById('287b1c40-34fd-46cd-8884-ad8d62203989').style.display = 'flex' </script> <table border=\"1\" class=\"dataframe\">\n",
       "  <thead>\n",
       "    <tr style=\"text-align: right;\">\n",
       "      <th></th>\n",
       "      <th>Company</th>\n",
       "      <th>Industry</th>\n",
       "      <th>Revenue growth percentage</th>\n",
       "    </tr>\n",
       "  </thead>\n",
       "  <tbody>\n",
       "    <tr>\n",
       "      <th>65</th>\n",
       "      <td>TD Synnex</td>\n",
       "      <td>Infotech</td>\n",
       "      <td>97.2</td>\n",
       "    </tr>\n",
       "  </tbody>\n",
       "</table></div>"
      ],
      "text/plain": [
       "      Company  Industry  Revenue growth percentage\n",
       "65  TD Synnex  Infotech                       97.2"
      ]
     },
     "execution_count": 23,
     "metadata": {},
     "output_type": "execute_result"
    }
   ],
   "source": [
    "# which company achieved the highest Revenue growth percentage?\n",
    "comp_growth = df[['Company', 'Industry', 'Revenue growth percentage']].sort_values(by='Revenue growth percentage', ascending=False)\n",
    "comp_growth.head(1)"
   ]
  },
  {
   "cell_type": "code",
   "execution_count": 24,
   "metadata": {},
   "outputs": [
    {
     "data": {
      "image/png": "[encoded data removed]",
      "text/plain": [
       "<Figure size 1080x432 with 1 Axes>"
      ]
     },
     "metadata": {
      "needs_background": "light"
     },
     "output_type": "display_data"
    }
   ],
   "source": [
    "# create a bar plot for the top 10 companies with the highest Revenue growth percentages.\n",
    "plt.figure(figsize=(15,6))\n",
    "sns.barplot(data=comp_growth, x=comp_growth['Company'].head(10), y=comp_growth['Revenue growth percentage'].head(10))\n",
    "sns.color_palette(\"tab10\")\n",
    "plt.xticks(rotation=45)\n",
    "plt.title('Top 10 companies with the highest Revenue growth percentage');"
   ]
  },
  {
   "cell_type": "code",
   "execution_count": 25,
   "metadata": {},
   "outputs": [
    {
     "data": {
      "image/png": "[encoded data removed]",
      "text/plain": [
       "<Figure size 576x432 with 1 Axes>"
      ]
     },
     "metadata": {
      "needs_background": "light"
     },
     "output_type": "display_data"
    }
   ],
   "source": [
    "# Distribution of Revenue growth Percentage\n",
    "plt.figure(figsize=(8, 6))\n",
    "sns.histplot(data=df, x='Revenue growth percentage', bins=20, kde=True)\n",
    "plt.title('Distribution of Revenue Growth Percentage')\n",
    "plt.show()"
   ]
  },
  {
   "cell_type": "markdown",
   "metadata": {},
   "source": [
    "- Most of the companies in this data set achieved revenue growth percentage by less than 20%. The distribution is right-skewed."
   ]
  },
  {
   "cell_type": "code",
   "execution_count": 26,
   "metadata": {},
   "outputs": [
    {
     "data": {
      "text/html": [
       "<div><div id=f3006854-a8b2-49c4-b70f-d8aea315d835 style=\"display:none; background-color:#9D6CFF; color:white; width:200px; height:30px; padding-left:5px; border-radius:4px; flex-direction:row; justify-content:space-around; align-items:center;\" onmouseover=\"this.style.backgroundColor='#BA9BF8'\" onmouseout=\"this.style.backgroundColor='#9D6CFF'\" onclick=\"window.commands?.execute('create-mitosheet-from-dataframe-output');\">See Full Dataframe in Mito</div> <script> if (window.commands?.hasCommand('create-mitosheet-from-dataframe-output')) document.getElementById('f3006854-a8b2-49c4-b70f-d8aea315d835').style.display = 'flex' </script> <table border=\"1\" class=\"dataframe\">\n",
       "  <thead>\n",
       "    <tr style=\"text-align: right;\">\n",
       "      <th></th>\n",
       "      <th>Industry</th>\n",
       "      <th>Company</th>\n",
       "    </tr>\n",
       "  </thead>\n",
       "  <tbody>\n",
       "    <tr>\n",
       "      <th>16</th>\n",
       "      <td>Financials</td>\n",
       "      <td>11</td>\n",
       "    </tr>\n",
       "    <tr>\n",
       "      <th>32</th>\n",
       "      <td>Retail</td>\n",
       "      <td>10</td>\n",
       "    </tr>\n",
       "    <tr>\n",
       "      <th>29</th>\n",
       "      <td>Petroleum industry</td>\n",
       "      <td>10</td>\n",
       "    </tr>\n",
       "    <tr>\n",
       "      <th>34</th>\n",
       "      <td>Technology</td>\n",
       "      <td>8</td>\n",
       "    </tr>\n",
       "    <tr>\n",
       "      <th>31</th>\n",
       "      <td>Pharmaceutical industry</td>\n",
       "      <td>7</td>\n",
       "    </tr>\n",
       "    <tr>\n",
       "      <th>22</th>\n",
       "      <td>Healthcare</td>\n",
       "      <td>6</td>\n",
       "    </tr>\n",
       "    <tr>\n",
       "      <th>24</th>\n",
       "      <td>Insurance</td>\n",
       "      <td>5</td>\n",
       "    </tr>\n",
       "    <tr>\n",
       "      <th>11</th>\n",
       "      <td>Conglomerate</td>\n",
       "      <td>4</td>\n",
       "    </tr>\n",
       "    <tr>\n",
       "      <th>36</th>\n",
       "      <td>Telecommunications</td>\n",
       "      <td>3</td>\n",
       "    </tr>\n",
       "    <tr>\n",
       "      <th>4</th>\n",
       "      <td>Airline</td>\n",
       "      <td>3</td>\n",
       "    </tr>\n",
       "  </tbody>\n",
       "</table></div>"
      ],
      "text/plain": [
       "                   Industry  Company\n",
       "16               Financials       11\n",
       "32                   Retail       10\n",
       "29       Petroleum industry       10\n",
       "34               Technology        8\n",
       "31  Pharmaceutical industry        7\n",
       "22               Healthcare        6\n",
       "24                Insurance        5\n",
       "11             Conglomerate        4\n",
       "36       Telecommunications        3\n",
       "4                   Airline        3"
      ]
     },
     "execution_count": 26,
     "metadata": {},
     "output_type": "execute_result"
    }
   ],
   "source": [
    "# Calculate the number of companies in each industry\n",
    "industry = df.groupby(['Industry'], as_index=False)['Company'].count().sort_values(by='Company', ascending=False).head(10)\n",
    "industry"
   ]
  },
  {
   "cell_type": "markdown",
   "metadata": {},
   "source": [
    "- Most of the companies belong to Financials industry."
   ]
  },
  {
   "cell_type": "code",
   "execution_count": 27,
   "metadata": {},
   "outputs": [
    {
     "data": {
      "image/png": "[encoded data removed]",
      "text/plain": [
       "<Figure size 1080x432 with 1 Axes>"
      ]
     },
     "metadata": {
      "needs_background": "light"
     },
     "output_type": "display_data"
    }
   ],
   "source": [
    "# Distribution of Companies by Industry'\n",
    "plt.figure(figsize=(15,6))\n",
    "sns.barplot(data=industry, x=industry['Industry'], y=industry['Company'])\n",
    "sns.color_palette('Set2')\n",
    "plt.xlabel('Industry')\n",
    "plt.ylabel('Count')\n",
    "plt.xticks(rotation=45)\n",
    "plt.title('Distribution of Companies by Industry');"
   ]
  },
  {
   "cell_type": "code",
   "execution_count": null,
   "metadata": {},
   "outputs": [],
   "source": []
  }
 ],
 "metadata": {
  "kernelspec": {
   "display_name": "Python 3",
   "language": "python",
   "name": "python3"
  },
  "language_info": {
   "codemirror_mode": {
    "name": "ipython",
    "version": 3
   },
   "file_extension": ".py",
   "mimetype": "text/x-python",
   "name": "python",
   "nbconvert_exporter": "python",
   "pygments_lexer": "ipython3",
   "version": "3.8.5"
  }
 },
 "nbformat": 4,
 "nbformat_minor": 4
}
